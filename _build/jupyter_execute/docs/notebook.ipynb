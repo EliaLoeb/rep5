{
 "cells": [
  {
   "cell_type": "markdown",
   "metadata": {},
   "source": [
    "# Data preprocessing\n",
    "\n",
    "De volgende code is gebruikt om de datasets op te schonen, te filteren en samen te voegen."
   ]
  },
  {
   "cell_type": "code",
   "execution_count": 1,
   "metadata": {},
   "outputs": [
    {
     "name": "stdout",
     "output_type": "stream",
     "text": [
      "Empty DataFrame\n",
      "Columns: [R_age, B_age, R_Height_cms, B_Height_cms, R_Reach_cms, B_Reach_cms, R_avg_SIG_STR_pct, B_avg_SIG_STR_pct, R_avg_TD_pct, B_avg_TD_pct, R_avg_SUB_ATT, B_avg_SUB_ATT, weight_class, Winner, age_diff, height_diff, reach_diff, strike_acc_diff, td_acc_diff, sub_att_diff]\n",
      "Index: []\n"
     ]
    }
   ],
   "source": [
    "import pandas as pd\n",
    "\n",
    "# Stap 1: Laad de datasets \n",
    "df1 = pd.read_csv(\"data.csv\")  # Rajeevw (prestaties en fysieke data) \n",
    "df2 = pd.read_csv(\"ufc-master.csv\")  # Mdabbert (aanvullende info) \n",
    "\n",
    "# Stap 2: Harmoniseer kolomnamen in df2 \n",
    "df2 = df2.rename(columns={ \n",
    "    'RedFighter': 'R_fighter', \n",
    "    'BlueFighter': 'B_fighter' \n",
    "}) \n",
    "\n",
    "# Stap 3: Merge datasets op vechtersnamen (datum wordt genegeerd) \n",
    "df_merged = pd.merge(df1, df2, on=['R_fighter', 'B_fighter'], how='inner') \n",
    "\n",
    "# Stap 4: Selecteer relevante kolommen \n",
    "relevant_columns = [ \n",
    "    'R_age', 'B_age', \n",
    "    'R_Height_cms', 'B_Height_cms', \n",
    "    'R_Reach_cms', 'B_Reach_cms', \n",
    "    'R_avg_SIG_STR_pct', 'B_avg_SIG_STR_pct', \n",
    "    'R_avg_TD_pct', 'B_avg_TD_pct', \n",
    "    'R_avg_SUB_ATT', 'B_avg_SUB_ATT', \n",
    "    'weight_class', \n",
    "    'Winner_x' \n",
    "] \n",
    "df_clean = df_merged[relevant_columns].copy() \n",
    "\n",
    "# Stap 5: Verwijder onbekende waarden \n",
    "df_clean = df_clean.replace(['Unknown', 'Unclear', 'unk', 'UNK', '?'], pd.NA) \n",
    "\n",
    "# Stap 6: Verwijder rijen met ontbrekende waarden \n",
    "df_clean = df_clean.dropna() \n",
    "\n",
    "# ✅ Stap 6.5: Zet 'weight_class' expliciet om naar string (fix voor lokale omgeving)\n",
    "df_clean['weight_class'] = df_clean['weight_class'].astype(str)\n",
    "\n",
    "# Stap 7: Verwijder catchweight- én vrouwelijke gewichtsklassen \n",
    "df_clean = df_clean[~df_clean['weight_class'].str.contains('Catch|Women', case=False, na=False)] \n",
    "\n",
    "# Stap 8: Hernoem 'Winner_x' naar 'Winner' \n",
    "df_clean = df_clean.rename(columns={'Winner_x': 'Winner'}) \n",
    "\n",
    "# Stap 9: Voeg verschilvariabelen toe \n",
    "df_clean['age_diff'] = df_clean['R_age'] - df_clean['B_age'] \n",
    "df_clean['height_diff'] = df_clean['R_Height_cms'] - df_clean['B_Height_cms'] \n",
    "df_clean['reach_diff'] = df_clean['R_Reach_cms'] - df_clean['B_Reach_cms'] \n",
    "df_clean['strike_acc_diff'] = df_clean['R_avg_SIG_STR_pct'] - df_clean['B_avg_SIG_STR_pct'] \n",
    "df_clean['td_acc_diff'] = df_clean['R_avg_TD_pct'] - df_clean['B_avg_TD_pct'] \n",
    "df_clean['sub_att_diff'] = df_clean['R_avg_SUB_ATT'] - df_clean['B_avg_SUB_ATT'] \n",
    "\n",
    "# Stap 10: Opslaan als nieuwe CSV \n",
    "df_clean.to_csv(\"ufc_clean.csv\", index=False) \n",
    "\n",
    "# Stap 11: Eerste 5 rijen laten zien \n",
    "print(df_clean.head(5))\n"
   ]
  }
 ],
 "metadata": {
  "kernelspec": {
   "display_name": "Python 3 (ipykernel)",
   "language": "python",
   "name": "python3"
  },
  "language_info": {
   "codemirror_mode": {
    "name": "ipython",
    "version": 3
   },
   "file_extension": ".py",
   "mimetype": "text/x-python",
   "name": "python",
   "nbconvert_exporter": "python",
   "pygments_lexer": "ipython3",
   "version": "3.13.2"
  },
  "widgets": {
   "application/vnd.jupyter.widget-state+json": {
    "state": {},
    "version_major": 2,
    "version_minor": 0
   }
  }
 },
 "nbformat": 4,
 "nbformat_minor": 4
}