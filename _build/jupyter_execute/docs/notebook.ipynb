{
 "cells": [
  {
   "cell_type": "markdown",
   "metadata": {},
   "source": [
    "# Data preprocessing\n",
    "\n",
    "De volgende code is gebruikt om de datasets op te schonen, te filteren en samen te voegen."
   ]
  },
  {
   "cell_type": "code",
   "execution_count": 1,
   "metadata": {},
   "outputs": [
    {
     "name": "stderr",
     "output_type": "stream",
     "text": [
      "C:\\Users\\Gebruiker\\AppData\\Local\\Temp\\ipykernel_23344\\1003291079.py:4: DtypeWarning: Columns (10,11,12,13,14,15,16,17,18,19,20,21,22,23,24,25,26,27,28,29,30,31,32,33,34,35,36,37,38,39,40,41,42,43,44,45,46,47,48,49,50,51,52,53,54,55,56,57,58,59,60,61,62,63,64,65,66,67,68,69,70,71,74,75,76,77,78,79,80,81,82,83,84,85,86,87,88,89,90,91,92,93,94,95,96,97,98,99,100,101,102,103,104,105,106,107,108,109,110,111,112,113,114,115,116,117,118,119,120,121,122,123,124,125,126,127,128,129,130,131,132,133,134,135,136,137,138,141,142,143) have mixed types. Specify dtype option on import or set low_memory=False.\n",
      "  df1 = pd.read_csv(\"data.csv\") # Rajeevw (prestaties en fysieke data)\n"
     ]
    },
    {
     "ename": "KeyError",
     "evalue": "'R_fighter'",
     "output_type": "error",
     "traceback": [
      "\u001b[31m---------------------------------------------------------------\u001b[39m",
      "\u001b[31mKeyError\u001b[39m                      Traceback (most recent call last)",
      "\u001b[32m~\\AppData\\Local\\Temp\\ipykernel_23344\\1003291079.py\u001b[39m in \u001b[36m?\u001b[39m\u001b[34m()\u001b[39m\n\u001b[32m     20\u001b[39m \n\u001b[32m     21\u001b[39m \n\u001b[32m     22\u001b[39m \u001b[38;5;66;03m# Stap 3: Merge datasets op vechtersnamen (datum wordt genegeerd)\u001b[39;00m\n\u001b[32m     23\u001b[39m \n\u001b[32m---> \u001b[39m\u001b[32m24\u001b[39m df_merged = pd.merge(df1, df2, on=[\u001b[33m'R_fighter'\u001b[39m, \u001b[33m'B_fighter'\u001b[39m], how=\u001b[33m'inner'\u001b[39m)\n\u001b[32m     25\u001b[39m \n\u001b[32m     26\u001b[39m \n\u001b[32m     27\u001b[39m \n",
      "\u001b[32m~\\miniconda3\\Lib\\site-packages\\pandas\\core\\reshape\\merge.py\u001b[39m in \u001b[36m?\u001b[39m\u001b[34m(left, right, how, on, left_on, right_on, left_index, right_index, sort, suffixes, copy, indicator, validate)\u001b[39m\n\u001b[32m    166\u001b[39m             validate=validate,\n\u001b[32m    167\u001b[39m             copy=copy,\n\u001b[32m    168\u001b[39m         )\n\u001b[32m    169\u001b[39m     \u001b[38;5;28;01melse\u001b[39;00m:\n\u001b[32m--> \u001b[39m\u001b[32m170\u001b[39m         op = _MergeOperation(\n\u001b[32m    171\u001b[39m             left_df,\n\u001b[32m    172\u001b[39m             right_df,\n\u001b[32m    173\u001b[39m             how=how,\n",
      "\u001b[32m~\\miniconda3\\Lib\\site-packages\\pandas\\core\\reshape\\merge.py\u001b[39m in \u001b[36m?\u001b[39m\u001b[34m(self, left, right, how, on, left_on, right_on, left_index, right_index, sort, suffixes, indicator, validate)\u001b[39m\n\u001b[32m    790\u001b[39m             self.right_join_keys,\n\u001b[32m    791\u001b[39m             self.join_names,\n\u001b[32m    792\u001b[39m             left_drop,\n\u001b[32m    793\u001b[39m             right_drop,\n\u001b[32m--> \u001b[39m\u001b[32m794\u001b[39m         ) = self._get_merge_keys()\n\u001b[32m    795\u001b[39m \n\u001b[32m    796\u001b[39m         \u001b[38;5;28;01mif\u001b[39;00m left_drop:\n\u001b[32m    797\u001b[39m             self.left = self.left._drop_labels_or_levels(left_drop)\n",
      "\u001b[32m~\\miniconda3\\Lib\\site-packages\\pandas\\core\\reshape\\merge.py\u001b[39m in \u001b[36m?\u001b[39m\u001b[34m(self)\u001b[39m\n\u001b[32m   1293\u001b[39m                         \u001b[38;5;66;03m# Then we're either Hashable or a wrong-length arraylike,\u001b[39;00m\n\u001b[32m   1294\u001b[39m                         \u001b[38;5;66;03m#  the latter of which will raise\u001b[39;00m\n\u001b[32m   1295\u001b[39m                         rk = cast(Hashable, rk)\n\u001b[32m   1296\u001b[39m                         \u001b[38;5;28;01mif\u001b[39;00m rk \u001b[38;5;28;01mis\u001b[39;00m \u001b[38;5;28;01mnot\u001b[39;00m \u001b[38;5;28;01mNone\u001b[39;00m:\n\u001b[32m-> \u001b[39m\u001b[32m1297\u001b[39m                             right_keys.append(right._get_label_or_level_values(rk))\n\u001b[32m   1298\u001b[39m                         \u001b[38;5;28;01melse\u001b[39;00m:\n\u001b[32m   1299\u001b[39m                             \u001b[38;5;66;03m# work-around for merge_asof(right_index=True)\u001b[39;00m\n\u001b[32m   1300\u001b[39m                             right_keys.append(right.index._values)\n",
      "\u001b[32m~\\miniconda3\\Lib\\site-packages\\pandas\\core\\generic.py\u001b[39m in \u001b[36m?\u001b[39m\u001b[34m(self, key, axis)\u001b[39m\n\u001b[32m   1907\u001b[39m             values = self.xs(key, axis=other_axes[\u001b[32m0\u001b[39m])._values\n\u001b[32m   1908\u001b[39m         \u001b[38;5;28;01melif\u001b[39;00m self._is_level_reference(key, axis=axis):\n\u001b[32m   1909\u001b[39m             values = self.axes[axis].get_level_values(key)._values\n\u001b[32m   1910\u001b[39m         \u001b[38;5;28;01melse\u001b[39;00m:\n\u001b[32m-> \u001b[39m\u001b[32m1911\u001b[39m             \u001b[38;5;28;01mraise\u001b[39;00m KeyError(key)\n\u001b[32m   1912\u001b[39m \n\u001b[32m   1913\u001b[39m         \u001b[38;5;66;03m# Check for duplicates\u001b[39;00m\n\u001b[32m   1914\u001b[39m         \u001b[38;5;28;01mif\u001b[39;00m values.ndim > \u001b[32m1\u001b[39m:\n",
      "\u001b[31mKeyError\u001b[39m: 'R_fighter'"
     ]
    }
   ],
   "source": [
    "import pandas as pd\n",
    "# Stap 1: Laad de datasets \n",
    "\n",
    "df1 = pd.read_csv(\"data.csv\") # Rajeevw (prestaties en fysieke data) \n",
    "\n",
    "df2 = pd.read_csv(\"ufc-master.csv\") # Mdabbert (aanvullende info) \n",
    "\n",
    " \n",
    "\n",
    "# Stap 2: Harmoniseer kolomnamen in df2 \n",
    "\n",
    "df2 = df2.rename(columns={ \n",
    "\n",
    "'RedFighter': 'R_fighter', \n",
    "\n",
    "'BlueFighter': 'B_fighter' \n",
    "\n",
    "}) \n",
    "\n",
    " \n",
    "\n",
    "# Stap 3: Merge datasets op vechtersnamen (datum wordt genegeerd) \n",
    "\n",
    "df_merged = pd.merge(df1, df2, on=['R_fighter', 'B_fighter'], how='inner') \n",
    "\n",
    " \n",
    "\n",
    "# Stap 4: Selecteer relevante kolommen \n",
    "\n",
    "relevant_columns = [ \n",
    "\n",
    "'R_age', 'B_age', \n",
    "\n",
    "'R_Height_cms', 'B_Height_cms', \n",
    "\n",
    "'R_Reach_cms', 'B_Reach_cms', \n",
    "\n",
    "'R_avg_SIG_STR_pct', 'B_avg_SIG_STR_pct', \n",
    "\n",
    "'R_avg_TD_pct', 'B_avg_TD_pct', \n",
    "\n",
    "'R_avg_SUB_ATT', 'B_avg_SUB_ATT', \n",
    "\n",
    "'weight_class', \n",
    "\n",
    "'Winner_x' \n",
    "\n",
    "] \n",
    "\n",
    "df_clean = df_merged[relevant_columns].copy() \n",
    "\n",
    " \n",
    "\n",
    "# Stap 5: Verwijder onbekende waarden \n",
    "\n",
    "df_clean = df_clean.replace(['Unknown', 'Unclear', 'unk', 'UNK', '?'], pd.NA) \n",
    "\n",
    " \n",
    "\n",
    "# Stap 6: Verwijder rijen met ontbrekende waarden \n",
    "\n",
    "df_clean = df_clean.dropna() \n",
    "\n",
    " \n",
    "\n",
    "# Stap 7: Verwijder catchweight- én vrouwelijke gewichtsklassen \n",
    "\n",
    "df_clean = df_clean[~df_clean['weight_class'].str.contains('Catch|Women', case=False, na=False)] \n",
    "\n",
    " \n",
    "\n",
    "# Stap 8: Hernoem 'Winner_x' naar 'Winner' \n",
    "\n",
    "df_clean = df_clean.rename(columns={'Winner_x': 'Winner'}) \n",
    "\n",
    " \n",
    "\n",
    "# Stap 9: Voeg verschilvariabelen toe \n",
    "\n",
    "df_clean['age_diff'] = df_clean['R_age'] - df_clean['B_age'] \n",
    "\n",
    "df_clean['height_diff'] = df_clean['R_Height_cms'] - df_clean['B_Height_cms'] \n",
    "\n",
    "df_clean['reach_diff'] = df_clean['R_Reach_cms'] - df_clean['B_Reach_cms'] \n",
    "\n",
    "df_clean['strike_acc_diff'] = df_clean['R_avg_SIG_STR_pct'] - df_clean['B_avg_SIG_STR_pct'] \n",
    "\n",
    "df_clean['td_acc_diff'] = df_clean['R_avg_TD_pct'] - df_clean['B_avg_TD_pct'] \n",
    "\n",
    "df_clean['sub_att_diff'] = df_clean['R_avg_SUB_ATT'] - df_clean['B_avg_SUB_ATT'] \n",
    "\n",
    " \n",
    "\n",
    "# Stap 10: Opslaan als nieuwe CSV \n",
    "\n",
    "df_clean.to_csv(\"ufc_clean.csv\", index=False) \n",
    "\n",
    " \n",
    "\n",
    "# Stap 11: Eerste 5 rijen laten zien \n",
    "\n",
    "print(df_clean.head(5)) "
   ]
  }
 ],
 "metadata": {
  "kernelspec": {
   "display_name": "Python 3 (ipykernel)",
   "language": "python",
   "name": "python3"
  },
  "language_info": {
   "codemirror_mode": {
    "name": "ipython",
    "version": 3
   },
   "file_extension": ".py",
   "mimetype": "text/x-python",
   "name": "python",
   "nbconvert_exporter": "python",
   "pygments_lexer": "ipython3",
   "version": "3.13.2"
  },
  "widgets": {
   "application/vnd.jupyter.widget-state+json": {
    "state": {},
    "version_major": 2,
    "version_minor": 0
   }
  }
 },
 "nbformat": 4,
 "nbformat_minor": 4
}