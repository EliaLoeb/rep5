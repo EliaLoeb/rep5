{
 "cells": [
  {
   "cell_type": "markdown",
   "metadata": {},
   "source": [
    "# Data preprocessing\n",
    "\n",
    "De volgende code is gebruikt om de datasets op te schonen, te filteren en samen te voegen."
   ]
  },
  {
   "cell_type": "code",
   "execution_count": 1,
   "metadata": {},
   "outputs": [],
   "source": [
    "# Import packages\n",
    "import pandas as pd\n",
    "import plotly.express as px\n",
    "import seaborn as sns"
   ]
  },
  {
   "cell_type": "markdown",
   "metadata": {},
   "source": [
    "## Load data\n",
    "\n",
    "You can put your data at the same directory as the notebook file and then use `pandas` to load the data."
   ]
  },
  {
   "cell_type": "code",
   "execution_count": 2,
   "metadata": {},
   "outputs": [
    {
     "ename": "SyntaxError",
     "evalue": "invalid non-printable character U+202F (4055398173.py, line 3)",
     "output_type": "error",
     "traceback": [
      "  \u001b[36mCell\u001b[39m\u001b[36m \u001b[39m\u001b[32mIn[2]\u001b[39m\u001b[32m, line 3\u001b[39m\n\u001b[31m    \u001b[39m\u001b[31mdf1 = pd.read_csv(\"data.csv\")           # Rajeevw (prestaties en fysieke data)\u001b[39m\n                                  ^\n\u001b[31mSyntaxError\u001b[39m\u001b[31m:\u001b[39m invalid non-printable character U+202F\n"
     ]
    }
   ],
   "source": [
    "# Stap 1: Laad de datasets \n",
    "\n",
    "df1 = pd.read_csv(\"data.csv\")           # Rajeevw (prestaties en fysieke data) \n",
    "\n",
    "df2 = pd.read_csv(\"ufc-master.csv\")     # Mdabbert (aanvullende info) \n",
    "\n",
    " \n",
    "\n",
    "# Stap 2: Harmoniseer kolomnamen in df2 \n",
    "\n",
    "df2 = df2.rename(columns={ \n",
    "\n",
    "    'RedFighter': 'R_fighter', \n",
    "\n",
    "    'BlueFighter': 'B_fighter' \n",
    "\n",
    "}) \n",
    "\n",
    " \n",
    "\n",
    "# Stap 3: Merge datasets op vechtersnamen (datum wordt genegeerd) \n",
    "\n",
    "df_merged = pd.merge(df1, df2, on=['R_fighter', 'B_fighter'], how='inner') \n",
    "\n",
    " \n",
    "\n",
    "# Stap 4: Selecteer relevante kolommen \n",
    "\n",
    "relevant_columns = [ \n",
    "\n",
    "    'R_age', 'B_age', \n",
    "\n",
    "    'R_Height_cms', 'B_Height_cms', \n",
    "\n",
    "    'R_Reach_cms', 'B_Reach_cms', \n",
    "\n",
    "    'R_avg_SIG_STR_pct', 'B_avg_SIG_STR_pct', \n",
    "\n",
    "    'R_avg_TD_pct', 'B_avg_TD_pct', \n",
    "\n",
    "    'R_avg_SUB_ATT', 'B_avg_SUB_ATT', \n",
    "\n",
    "    'weight_class', \n",
    "\n",
    "    'Winner_x' \n",
    "\n",
    "] \n",
    "\n",
    "df_clean = df_merged[relevant_columns].copy() \n",
    "\n",
    " \n",
    "\n",
    "# Stap 5: Verwijder onbekende waarden \n",
    "\n",
    "df_clean = df_clean.replace(['Unknown', 'Unclear', 'unk', 'UNK', '?'], pd.NA) \n",
    "\n",
    " \n",
    "\n",
    "# Stap 6: Verwijder rijen met ontbrekende waarden \n",
    "\n",
    "df_clean = df_clean.dropna() \n",
    "\n",
    " \n",
    "\n",
    "# Stap 7: Verwijder catchweight- én vrouwelijke gewichtsklassen \n",
    "\n",
    "df_clean = df_clean[~df_clean['weight_class'].str.contains('Catch|Women', case=False, na=False)] \n",
    "\n",
    " \n",
    "\n",
    "# Stap 8: Hernoem 'Winner_x' naar 'Winner' \n",
    "\n",
    "df_clean = df_clean.rename(columns={'Winner_x': 'Winner'}) \n",
    "\n",
    " \n",
    "\n",
    "# Stap 9: Voeg verschilvariabelen toe \n",
    "\n",
    "df_clean['age_diff'] = df_clean['R_age'] - df_clean['B_age'] \n",
    "\n",
    "df_clean['height_diff'] = df_clean['R_Height_cms'] - df_clean['B_Height_cms'] \n",
    "\n",
    "df_clean['reach_diff'] = df_clean['R_Reach_cms'] - df_clean['B_Reach_cms'] \n",
    "\n",
    "df_clean['strike_acc_diff'] = df_clean['R_avg_SIG_STR_pct'] - df_clean['B_avg_SIG_STR_pct'] \n",
    "\n",
    "df_clean['td_acc_diff'] = df_clean['R_avg_TD_pct'] - df_clean['B_avg_TD_pct'] \n",
    "\n",
    "df_clean['sub_att_diff'] = df_clean['R_avg_SUB_ATT'] - df_clean['B_avg_SUB_ATT'] \n",
    "\n",
    " \n",
    "\n",
    "# Stap 10: Opslaan als nieuwe CSV \n",
    "\n",
    "df_clean.to_csv(\"ufc_clean.csv\", index=False) \n",
    "\n",
    " \n",
    "\n",
    "# Stap 11: Eerste 5 rijen laten zien \n",
    "\n",
    "print(df_clean.head(5)) "
   ]
  }
 ],
 "metadata": {
  "kernelspec": {
   "display_name": "Python 3 (ipykernel)",
   "language": "python",
   "name": "python3"
  },
  "language_info": {
   "codemirror_mode": {
    "name": "ipython",
    "version": 3
   },
   "file_extension": ".py",
   "mimetype": "text/x-python",
   "name": "python",
   "nbconvert_exporter": "python",
   "pygments_lexer": "ipython3",
   "version": "3.13.2"
  },
  "widgets": {
   "application/vnd.jupyter.widget-state+json": {
    "state": {},
    "version_major": 2,
    "version_minor": 0
   }
  }
 },
 "nbformat": 4,
 "nbformat_minor": 4
}